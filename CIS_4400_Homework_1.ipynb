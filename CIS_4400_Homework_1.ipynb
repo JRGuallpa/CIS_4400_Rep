{
 "cells": [
  {
   "cell_type": "code",
   "execution_count": 13,
   "id": "3fea9338",
   "metadata": {},
   "outputs": [
    {
     "name": "stdout",
     "output_type": "stream",
     "text": [
      "Requirement already satisfied: tqdm in /Library/Frameworks/Python.framework/Versions/3.11/lib/python3.11/site-packages (4.66.2)\n",
      "\n",
      "\u001b[1m[\u001b[0m\u001b[34;49mnotice\u001b[0m\u001b[1;39;49m]\u001b[0m\u001b[39;49m A new release of pip is available: \u001b[0m\u001b[31;49m23.3.1\u001b[0m\u001b[39;49m -> \u001b[0m\u001b[32;49m24.0\u001b[0m\n",
      "\u001b[1m[\u001b[0m\u001b[34;49mnotice\u001b[0m\u001b[1;39;49m]\u001b[0m\u001b[39;49m To update, run: \u001b[0m\u001b[32;49mpip install --upgrade pip\u001b[0m\n",
      "Note: you may need to restart the kernel to use updated packages.\n"
     ]
    }
   ],
   "source": [
    "pip install tqdm"
   ]
  },
  {
   "cell_type": "markdown",
   "id": "3643035f",
   "metadata": {},
   "source": [
    "## Data Sourcing"
   ]
  },
  {
   "cell_type": "code",
   "execution_count": 20,
   "id": "c5ee9952",
   "metadata": {},
   "outputs": [],
   "source": [
    "import os\n",
    "import requests\n",
    "from tqdm import tqdm\n",
    "import pandas as pd\n",
    "import zipfile"
   ]
  },
  {
   "cell_type": "code",
   "execution_count": 15,
   "id": "b40a7e0a",
   "metadata": {},
   "outputs": [],
   "source": [
    "# URLs of the zip files\n",
    "url_202401 = \"https://s3.amazonaws.com/tripdata/202401-citibike-tripdata.csv.zip\""
   ]
  },
  {
   "cell_type": "code",
   "execution_count": 7,
   "id": "47543c6c",
   "metadata": {},
   "outputs": [],
   "source": [
    "# Function to download a file given its URL\n",
    "def download_file(url, filename):\n",
    "    # Create the directory if it doesn't exist\n",
    "    os.makedirs(\"Data\", exist_ok=True)\n",
    "    \n",
    "    # Modify filename to include the /data directory\n",
    "    filename = os.path.join(\"Data\", filename)\n",
    "    \n",
    "    if os.path.exists(filename):\n",
    "        print(f\"File '{filename}' already exists.\")\n",
    "        overwrite = input(\"Do you want to overwrite it? (yes/no): \").lower()\n",
    "        if overwrite != 'yes':\n",
    "            print(\"Skipping download.\")\n",
    "            return\n",
    "\n",
    "    try:\n",
    "        # Get the file size for the progress bar\n",
    "        response = requests.get(url, stream=True)\n",
    "        total_size = int(response.headers.get('content-length', 0))\n",
    "\n",
    "        # Initialize the progress bar\n",
    "        progress_bar = tqdm(total=total_size, unit='B', unit_scale=True)\n",
    "\n",
    "        with open(filename, \"wb\") as f:\n",
    "            for data in response.iter_content(chunk_size=1024):\n",
    "                f.write(data)\n",
    "                progress_bar.update(len(data))\n",
    "\n",
    "        progress_bar.close()\n",
    "        print(f\"Downloaded {filename}\")\n",
    "    except Exception as e:\n",
    "        print(f\"Error occurred while downloading {filename}: {e}\")"
   ]
  },
  {
   "cell_type": "code",
   "execution_count": 17,
   "id": "f5725725",
   "metadata": {},
   "outputs": [],
   "source": [
    "download_file(url_202401, \"202401-citibike-tripdata.csv.zip\")\n",
    "#alternate code\n",
    "#download_file(url=url_202401, filename=\"202401-citibike-tripdata.csv.zip\")\n"
   ]
  },
  {
   "cell_type": "markdown",
   "id": "e764680e",
   "metadata": {},
   "source": [
    "### Start Here After Zipfile is Downloaded"
   ]
  },
  {
   "cell_type": "code",
   "execution_count": 3,
   "id": "326f02aa",
   "metadata": {},
   "outputs": [],
   "source": [
    "# Function to view the contents of a zip file\n",
    "def view_zip_contents(filename):\n",
    "    with zipfile.ZipFile(filename, \"r\") as zip_ref:\n",
    "        print(f\"Contents of {filename}:\")\n",
    "        for file_info in zip_ref.infolist():\n",
    "            print(file_info.filename)"
   ]
  },
  {
   "cell_type": "code",
   "execution_count": 14,
   "id": "d9bfcaef",
   "metadata": {},
   "outputs": [
    {
     "name": "stdout",
     "output_type": "stream",
     "text": [
      "Contents of Data/202401-citibike-tripdata.csv.zip:\n",
      "202401-citibike-tripdata_1.csv\n",
      "__MACOSX/._202401-citibike-tripdata_1.csv\n",
      "202401-citibike-tripdata_2.csv\n"
     ]
    }
   ],
   "source": [
    "# View contents of 202401 csv zip file\n",
    "view_zip_contents(\"Data/202401-citibike-tripdata.csv.zip\")"
   ]
  },
  {
   "cell_type": "code",
   "execution_count": 15,
   "id": "69d0c0db",
   "metadata": {},
   "outputs": [],
   "source": [
    "def extract_csv_zip_to_dataframe(filename):\n",
    "    \"\"\"\n",
    "    Extract CSV files from a zip file into pandas DataFrames.\n",
    "\n",
    "    Parameters:\n",
    "        filename (str): The name of the zip file containing CSV files.\n",
    "    \n",
    "    Returns:\n",
    "        list: A list of pandas DataFrames containing the extracted CSV data.\n",
    "    \"\"\"\n",
    "    dataframes = []\n",
    "    \n",
    "    with zipfile.ZipFile(filename, \"r\") as zip_ref:\n",
    "        for file_info in zip_ref.infolist():\n",
    "            if file_info.filename.endswith('.csv'):\n",
    "                with zip_ref.open(file_info) as file:\n",
    "                    try:\n",
    "                        df = pd.read_csv(file)\n",
    "                    except UnicodeDecodeError:\n",
    "                        # Try reading with 'latin-1' encoding if UTF-8 fails\n",
    "                        file.seek(0)  # Reset file pointer\n",
    "                        df = pd.read_csv(file, encoding='latin-1')\n",
    "                    dataframes.append(df)\n",
    "    \n",
    "    return dataframes"
   ]
  },
  {
   "cell_type": "code",
   "execution_count": 16,
   "id": "16a5e9b4",
   "metadata": {},
   "outputs": [
    {
     "name": "stderr",
     "output_type": "stream",
     "text": [
      "/var/folders/7m/f0dfssls4z954t7nqvltms0r0000gq/T/ipykernel_4579/1571236055.py:18: DtypeWarning: Columns (5) have mixed types. Specify dtype option on import or set low_memory=False.\n",
      "  df = pd.read_csv(file)\n",
      "/var/folders/7m/f0dfssls4z954t7nqvltms0r0000gq/T/ipykernel_4579/1571236055.py:18: DtypeWarning: Columns (5,7) have mixed types. Specify dtype option on import or set low_memory=False.\n",
      "  df = pd.read_csv(file)\n"
     ]
    }
   ],
   "source": [
    "# Extract CSV files from 202401 csv zip file into pandas DataFrames\n",
    "csv_dataframes = extract_csv_zip_to_dataframe(\"Data/202401-citibike-tripdata.csv.zip\")"
   ]
  },
  {
   "cell_type": "code",
   "execution_count": 17,
   "id": "175631d2",
   "metadata": {},
   "outputs": [
    {
     "name": "stdout",
     "output_type": "stream",
     "text": [
      "DataFrame 1:\n",
      "            ride_id rideable_type           started_at             ended_at  \\\n",
      "0  58F2CA262B50E256  classic_bike  2024-01-25 20:39:09  2024-01-25 20:44:07   \n",
      "1  AA7AB6D6E9F8D21B  classic_bike  2024-01-15 18:44:36  2024-01-15 19:19:46   \n",
      "2  1830A6C4BA1E1A9D  classic_bike  2024-01-03 19:27:58  2024-01-03 19:58:42   \n",
      "3  3995B084A51A1038  classic_bike  2024-01-22 18:29:46  2024-01-22 18:59:57   \n",
      "4  23EE6A8979C333B1  classic_bike  2024-01-27 09:55:39  2024-01-27 10:00:48   \n",
      "\n",
      "    start_station_name start_station_id         end_station_name  \\\n",
      "0   Broadway & E 14 St          5905.12          Ave A & E 11 St   \n",
      "1  E 16 St & Irving Pl          5938.11  Clermont Ave & Park Ave   \n",
      "2  E 16 St & Irving Pl          5938.11  Clermont Ave & Park Ave   \n",
      "3  E 16 St & Irving Pl          5938.11  Clermont Ave & Park Ave   \n",
      "4  E 16 St & Irving Pl          5938.11          E 14 St & 1 Ave   \n",
      "\n",
      "  end_station_id  start_lat  start_lng    end_lat    end_lng member_casual  \n",
      "0        5703.13  40.734546 -73.990741  40.728547 -73.981759        member  \n",
      "1        4692.01  40.735367 -73.987974  40.695734 -73.971297        member  \n",
      "2        4692.01  40.735367 -73.987974  40.695734 -73.971297        member  \n",
      "3        4692.01  40.735367 -73.987974  40.695734 -73.971297        member  \n",
      "4        5779.10  40.735367 -73.987974  40.731393 -73.982867        member  \n",
      "==================================================\n",
      "DataFrame 2:\n",
      "Empty DataFrame\n",
      "Columns: [Unnamed: 0]\n",
      "Index: []\n",
      "==================================================\n",
      "DataFrame 3:\n",
      "            ride_id  rideable_type           started_at             ended_at  \\\n",
      "0  C1B92340DDCAD1B0   classic_bike  2024-01-15 18:13:13  2024-01-15 18:17:09   \n",
      "1  40801C182025253C  electric_bike  2024-01-23 18:00:07  2024-01-23 18:02:11   \n",
      "2  2BA6C231ADA6B83F  electric_bike  2024-01-23 09:44:05  2024-01-23 09:47:23   \n",
      "3  C2A64E523C94F719  electric_bike  2024-01-23 13:32:38  2024-01-23 13:34:40   \n",
      "4  39D58436339BD8D5  electric_bike  2024-01-08 11:44:50  2024-01-08 12:04:23   \n",
      "\n",
      "          start_station_name start_station_id       end_station_name  \\\n",
      "0        St Marks Pl & 2 Ave           5669.1         1 Ave & E 6 St   \n",
      "1        St Marks Pl & 2 Ave           5669.1         1 Ave & E 6 St   \n",
      "2        St Marks Pl & 2 Ave           5669.1         E 4 St & Ave B   \n",
      "3        St Marks Pl & 2 Ave           5669.1         1 Ave & E 6 St   \n",
      "4  Pearl St & Hanover Square          4993.02  Lafayette St & E 8 St   \n",
      "\n",
      "  end_station_id  start_lat  start_lng    end_lat    end_lng member_casual  \n",
      "0        5626.15  40.728419 -73.987140  40.726331 -73.986169        member  \n",
      "1        5626.15  40.728374 -73.986988  40.726331 -73.986169        member  \n",
      "2        5515.08  40.728279 -73.987133  40.723347 -73.982659        member  \n",
      "3        5626.15  40.728484 -73.987595  40.726331 -73.986169        member  \n",
      "4        5788.13  40.704467 -74.008512  40.730207 -73.991026        member  \n",
      "==================================================\n"
     ]
    }
   ],
   "source": [
    "# Access the extracted DataFrames\n",
    "for idx, df in enumerate(csv_dataframes):\n",
    "    print(f\"DataFrame {idx + 1}:\")\n",
    "    print(df.head())  # Print the first few rows of each DataFrame\n",
    "    print(\"=\" * 50)"
   ]
  },
  {
   "cell_type": "code",
   "execution_count": 18,
   "id": "ff4b5ecd",
   "metadata": {
    "scrolled": true
   },
   "outputs": [
    {
     "name": "stdout",
     "output_type": "stream",
     "text": [
      "(1954376, 14)\n"
     ]
    },
    {
     "data": {
      "text/html": [
       "<div>\n",
       "<style scoped>\n",
       "    .dataframe tbody tr th:only-of-type {\n",
       "        vertical-align: middle;\n",
       "    }\n",
       "\n",
       "    .dataframe tbody tr th {\n",
       "        vertical-align: top;\n",
       "    }\n",
       "\n",
       "    .dataframe thead th {\n",
       "        text-align: right;\n",
       "    }\n",
       "</style>\n",
       "<table border=\"1\" class=\"dataframe\">\n",
       "  <thead>\n",
       "    <tr style=\"text-align: right;\">\n",
       "      <th></th>\n",
       "      <th>ride_id</th>\n",
       "      <th>rideable_type</th>\n",
       "      <th>started_at</th>\n",
       "      <th>ended_at</th>\n",
       "      <th>start_station_name</th>\n",
       "      <th>start_station_id</th>\n",
       "      <th>end_station_name</th>\n",
       "      <th>end_station_id</th>\n",
       "      <th>start_lat</th>\n",
       "      <th>start_lng</th>\n",
       "      <th>end_lat</th>\n",
       "      <th>end_lng</th>\n",
       "      <th>member_casual</th>\n",
       "      <th>Unnamed: 0</th>\n",
       "    </tr>\n",
       "  </thead>\n",
       "  <tbody>\n",
       "    <tr>\n",
       "      <th>0</th>\n",
       "      <td>58F2CA262B50E256</td>\n",
       "      <td>classic_bike</td>\n",
       "      <td>2024-01-25 20:39:09</td>\n",
       "      <td>2024-01-25 20:44:07</td>\n",
       "      <td>Broadway &amp; E 14 St</td>\n",
       "      <td>5905.12</td>\n",
       "      <td>Ave A &amp; E 11 St</td>\n",
       "      <td>5703.13</td>\n",
       "      <td>40.734546</td>\n",
       "      <td>-73.990741</td>\n",
       "      <td>40.728547</td>\n",
       "      <td>-73.981759</td>\n",
       "      <td>member</td>\n",
       "      <td>NaN</td>\n",
       "    </tr>\n",
       "    <tr>\n",
       "      <th>1</th>\n",
       "      <td>AA7AB6D6E9F8D21B</td>\n",
       "      <td>classic_bike</td>\n",
       "      <td>2024-01-15 18:44:36</td>\n",
       "      <td>2024-01-15 19:19:46</td>\n",
       "      <td>E 16 St &amp; Irving Pl</td>\n",
       "      <td>5938.11</td>\n",
       "      <td>Clermont Ave &amp; Park Ave</td>\n",
       "      <td>4692.01</td>\n",
       "      <td>40.735367</td>\n",
       "      <td>-73.987974</td>\n",
       "      <td>40.695734</td>\n",
       "      <td>-73.971297</td>\n",
       "      <td>member</td>\n",
       "      <td>NaN</td>\n",
       "    </tr>\n",
       "    <tr>\n",
       "      <th>2</th>\n",
       "      <td>1830A6C4BA1E1A9D</td>\n",
       "      <td>classic_bike</td>\n",
       "      <td>2024-01-03 19:27:58</td>\n",
       "      <td>2024-01-03 19:58:42</td>\n",
       "      <td>E 16 St &amp; Irving Pl</td>\n",
       "      <td>5938.11</td>\n",
       "      <td>Clermont Ave &amp; Park Ave</td>\n",
       "      <td>4692.01</td>\n",
       "      <td>40.735367</td>\n",
       "      <td>-73.987974</td>\n",
       "      <td>40.695734</td>\n",
       "      <td>-73.971297</td>\n",
       "      <td>member</td>\n",
       "      <td>NaN</td>\n",
       "    </tr>\n",
       "    <tr>\n",
       "      <th>3</th>\n",
       "      <td>3995B084A51A1038</td>\n",
       "      <td>classic_bike</td>\n",
       "      <td>2024-01-22 18:29:46</td>\n",
       "      <td>2024-01-22 18:59:57</td>\n",
       "      <td>E 16 St &amp; Irving Pl</td>\n",
       "      <td>5938.11</td>\n",
       "      <td>Clermont Ave &amp; Park Ave</td>\n",
       "      <td>4692.01</td>\n",
       "      <td>40.735367</td>\n",
       "      <td>-73.987974</td>\n",
       "      <td>40.695734</td>\n",
       "      <td>-73.971297</td>\n",
       "      <td>member</td>\n",
       "      <td>NaN</td>\n",
       "    </tr>\n",
       "    <tr>\n",
       "      <th>4</th>\n",
       "      <td>23EE6A8979C333B1</td>\n",
       "      <td>classic_bike</td>\n",
       "      <td>2024-01-27 09:55:39</td>\n",
       "      <td>2024-01-27 10:00:48</td>\n",
       "      <td>E 16 St &amp; Irving Pl</td>\n",
       "      <td>5938.11</td>\n",
       "      <td>E 14 St &amp; 1 Ave</td>\n",
       "      <td>5779.10</td>\n",
       "      <td>40.735367</td>\n",
       "      <td>-73.987974</td>\n",
       "      <td>40.731393</td>\n",
       "      <td>-73.982867</td>\n",
       "      <td>member</td>\n",
       "      <td>NaN</td>\n",
       "    </tr>\n",
       "  </tbody>\n",
       "</table>\n",
       "</div>"
      ],
      "text/plain": [
       "            ride_id rideable_type           started_at             ended_at  \\\n",
       "0  58F2CA262B50E256  classic_bike  2024-01-25 20:39:09  2024-01-25 20:44:07   \n",
       "1  AA7AB6D6E9F8D21B  classic_bike  2024-01-15 18:44:36  2024-01-15 19:19:46   \n",
       "2  1830A6C4BA1E1A9D  classic_bike  2024-01-03 19:27:58  2024-01-03 19:58:42   \n",
       "3  3995B084A51A1038  classic_bike  2024-01-22 18:29:46  2024-01-22 18:59:57   \n",
       "4  23EE6A8979C333B1  classic_bike  2024-01-27 09:55:39  2024-01-27 10:00:48   \n",
       "\n",
       "    start_station_name start_station_id         end_station_name  \\\n",
       "0   Broadway & E 14 St          5905.12          Ave A & E 11 St   \n",
       "1  E 16 St & Irving Pl          5938.11  Clermont Ave & Park Ave   \n",
       "2  E 16 St & Irving Pl          5938.11  Clermont Ave & Park Ave   \n",
       "3  E 16 St & Irving Pl          5938.11  Clermont Ave & Park Ave   \n",
       "4  E 16 St & Irving Pl          5938.11          E 14 St & 1 Ave   \n",
       "\n",
       "  end_station_id  start_lat  start_lng    end_lat    end_lng member_casual  \\\n",
       "0        5703.13  40.734546 -73.990741  40.728547 -73.981759        member   \n",
       "1        4692.01  40.735367 -73.987974  40.695734 -73.971297        member   \n",
       "2        4692.01  40.735367 -73.987974  40.695734 -73.971297        member   \n",
       "3        4692.01  40.735367 -73.987974  40.695734 -73.971297        member   \n",
       "4        5779.10  40.735367 -73.987974  40.731393 -73.982867        member   \n",
       "\n",
       "  Unnamed: 0  \n",
       "0        NaN  \n",
       "1        NaN  \n",
       "2        NaN  \n",
       "3        NaN  \n",
       "4        NaN  "
      ]
     },
     "execution_count": 18,
     "metadata": {},
     "output_type": "execute_result"
    }
   ],
   "source": [
    "consolidated_df = pd.concat(csv_dataframes)\n",
    "# Print the consolidated DataFrame\n",
    "print(consolidated_df.shape)\n",
    "consolidated_df.head()"
   ]
  },
  {
   "cell_type": "code",
   "execution_count": 19,
   "id": "8e637f58",
   "metadata": {},
   "outputs": [
    {
     "data": {
      "text/html": [
       "<div>\n",
       "<style scoped>\n",
       "    .dataframe tbody tr th:only-of-type {\n",
       "        vertical-align: middle;\n",
       "    }\n",
       "\n",
       "    .dataframe tbody tr th {\n",
       "        vertical-align: top;\n",
       "    }\n",
       "\n",
       "    .dataframe thead th {\n",
       "        text-align: right;\n",
       "    }\n",
       "</style>\n",
       "<table border=\"1\" class=\"dataframe\">\n",
       "  <thead>\n",
       "    <tr style=\"text-align: right;\">\n",
       "      <th></th>\n",
       "      <th>ride_id</th>\n",
       "      <th>rideable_type</th>\n",
       "      <th>started_at</th>\n",
       "      <th>ended_at</th>\n",
       "      <th>start_station_name</th>\n",
       "      <th>start_station_id</th>\n",
       "      <th>end_station_name</th>\n",
       "      <th>end_station_id</th>\n",
       "      <th>start_lat</th>\n",
       "      <th>start_lng</th>\n",
       "      <th>end_lat</th>\n",
       "      <th>end_lng</th>\n",
       "      <th>member_casual</th>\n",
       "    </tr>\n",
       "  </thead>\n",
       "  <tbody>\n",
       "    <tr>\n",
       "      <th>0</th>\n",
       "      <td>58F2CA262B50E256</td>\n",
       "      <td>classic_bike</td>\n",
       "      <td>2024-01-25 20:39:09</td>\n",
       "      <td>2024-01-25 20:44:07</td>\n",
       "      <td>Broadway &amp; E 14 St</td>\n",
       "      <td>5905.12</td>\n",
       "      <td>Ave A &amp; E 11 St</td>\n",
       "      <td>5703.13</td>\n",
       "      <td>40.734546</td>\n",
       "      <td>-73.990741</td>\n",
       "      <td>40.728547</td>\n",
       "      <td>-73.981759</td>\n",
       "      <td>member</td>\n",
       "    </tr>\n",
       "    <tr>\n",
       "      <th>1</th>\n",
       "      <td>AA7AB6D6E9F8D21B</td>\n",
       "      <td>classic_bike</td>\n",
       "      <td>2024-01-15 18:44:36</td>\n",
       "      <td>2024-01-15 19:19:46</td>\n",
       "      <td>E 16 St &amp; Irving Pl</td>\n",
       "      <td>5938.11</td>\n",
       "      <td>Clermont Ave &amp; Park Ave</td>\n",
       "      <td>4692.01</td>\n",
       "      <td>40.735367</td>\n",
       "      <td>-73.987974</td>\n",
       "      <td>40.695734</td>\n",
       "      <td>-73.971297</td>\n",
       "      <td>member</td>\n",
       "    </tr>\n",
       "    <tr>\n",
       "      <th>2</th>\n",
       "      <td>1830A6C4BA1E1A9D</td>\n",
       "      <td>classic_bike</td>\n",
       "      <td>2024-01-03 19:27:58</td>\n",
       "      <td>2024-01-03 19:58:42</td>\n",
       "      <td>E 16 St &amp; Irving Pl</td>\n",
       "      <td>5938.11</td>\n",
       "      <td>Clermont Ave &amp; Park Ave</td>\n",
       "      <td>4692.01</td>\n",
       "      <td>40.735367</td>\n",
       "      <td>-73.987974</td>\n",
       "      <td>40.695734</td>\n",
       "      <td>-73.971297</td>\n",
       "      <td>member</td>\n",
       "    </tr>\n",
       "    <tr>\n",
       "      <th>3</th>\n",
       "      <td>3995B084A51A1038</td>\n",
       "      <td>classic_bike</td>\n",
       "      <td>2024-01-22 18:29:46</td>\n",
       "      <td>2024-01-22 18:59:57</td>\n",
       "      <td>E 16 St &amp; Irving Pl</td>\n",
       "      <td>5938.11</td>\n",
       "      <td>Clermont Ave &amp; Park Ave</td>\n",
       "      <td>4692.01</td>\n",
       "      <td>40.735367</td>\n",
       "      <td>-73.987974</td>\n",
       "      <td>40.695734</td>\n",
       "      <td>-73.971297</td>\n",
       "      <td>member</td>\n",
       "    </tr>\n",
       "    <tr>\n",
       "      <th>4</th>\n",
       "      <td>23EE6A8979C333B1</td>\n",
       "      <td>classic_bike</td>\n",
       "      <td>2024-01-27 09:55:39</td>\n",
       "      <td>2024-01-27 10:00:48</td>\n",
       "      <td>E 16 St &amp; Irving Pl</td>\n",
       "      <td>5938.11</td>\n",
       "      <td>E 14 St &amp; 1 Ave</td>\n",
       "      <td>5779.10</td>\n",
       "      <td>40.735367</td>\n",
       "      <td>-73.987974</td>\n",
       "      <td>40.731393</td>\n",
       "      <td>-73.982867</td>\n",
       "      <td>member</td>\n",
       "    </tr>\n",
       "  </tbody>\n",
       "</table>\n",
       "</div>"
      ],
      "text/plain": [
       "            ride_id rideable_type           started_at             ended_at  \\\n",
       "0  58F2CA262B50E256  classic_bike  2024-01-25 20:39:09  2024-01-25 20:44:07   \n",
       "1  AA7AB6D6E9F8D21B  classic_bike  2024-01-15 18:44:36  2024-01-15 19:19:46   \n",
       "2  1830A6C4BA1E1A9D  classic_bike  2024-01-03 19:27:58  2024-01-03 19:58:42   \n",
       "3  3995B084A51A1038  classic_bike  2024-01-22 18:29:46  2024-01-22 18:59:57   \n",
       "4  23EE6A8979C333B1  classic_bike  2024-01-27 09:55:39  2024-01-27 10:00:48   \n",
       "\n",
       "    start_station_name start_station_id         end_station_name  \\\n",
       "0   Broadway & E 14 St          5905.12          Ave A & E 11 St   \n",
       "1  E 16 St & Irving Pl          5938.11  Clermont Ave & Park Ave   \n",
       "2  E 16 St & Irving Pl          5938.11  Clermont Ave & Park Ave   \n",
       "3  E 16 St & Irving Pl          5938.11  Clermont Ave & Park Ave   \n",
       "4  E 16 St & Irving Pl          5938.11          E 14 St & 1 Ave   \n",
       "\n",
       "  end_station_id  start_lat  start_lng    end_lat    end_lng member_casual  \n",
       "0        5703.13  40.734546 -73.990741  40.728547 -73.981759        member  \n",
       "1        4692.01  40.735367 -73.987974  40.695734 -73.971297        member  \n",
       "2        4692.01  40.735367 -73.987974  40.695734 -73.971297        member  \n",
       "3        4692.01  40.735367 -73.987974  40.695734 -73.971297        member  \n",
       "4        5779.10  40.735367 -73.987974  40.731393 -73.982867        member  "
      ]
     },
     "execution_count": 19,
     "metadata": {},
     "output_type": "execute_result"
    }
   ],
   "source": [
    "#drop unneccessary column \n",
    "consolidated_df = consolidated_df.drop(columns=['Unnamed: 0'])\n",
    "consolidated_df.head()"
   ]
  },
  {
   "cell_type": "code",
   "execution_count": null,
   "id": "ebf5b2bd",
   "metadata": {},
   "outputs": [],
   "source": [
    "#zip_ref.extractall(\"path/to/extract\")\n",
    "#Replace \"path/to/extract\" with the desired directory path."
   ]
  },
  {
   "cell_type": "markdown",
   "id": "f75f1f5d",
   "metadata": {},
   "source": [
    "## Data Storage Process"
   ]
  },
  {
   "cell_type": "code",
   "execution_count": null,
   "id": "c1009a09",
   "metadata": {},
   "outputs": [],
   "source": [
    "from google.cloud import storage\n",
    "from google.cloud import bigquery\n",
    "from google.api_core import exceptions\n",
    "import os\n",
    "from io import BytesIO"
   ]
  },
  {
   "cell_type": "code",
   "execution_count": null,
   "id": "80855d9f",
   "metadata": {},
   "outputs": [],
   "source": [
    "# Load environment variables from .env file\n",
    "from dotenv import load_dotenv\n",
    "load_dotenv()\n",
    "\n",
    "# Set GOOGLE_APPLICATION_CREDENTIALS environment variable\n",
    "os.environ[\"GOOGLE_APPLICATION_CREDENTIALS\"] = os.getenv(\"GOOGLE_APPLICATION_CREDENTIALS\")\n"
   ]
  },
  {
   "cell_type": "code",
   "execution_count": null,
   "id": "431fda73",
   "metadata": {},
   "outputs": [],
   "source": [
    "# Set path to service account key file\n",
    "#os.environ[\"GOOGLE_APPLICATION_CREDENTIALS\"] = \"Path\""
   ]
  },
  {
   "cell_type": "code",
   "execution_count": null,
   "id": "6c80973f",
   "metadata": {},
   "outputs": [],
   "source": [
    "print(os.environ.get('GOOGLE_APPLICATION_CREDENTIALS'))"
   ]
  },
  {
   "cell_type": "code",
   "execution_count": null,
   "id": "42bdea4e",
   "metadata": {},
   "outputs": [],
   "source": [
    "# Define the project ID\n",
    "project_id = 'testingproject-384800'\n",
    "# Create a client to interact with Google Cloud Storage\n",
    "client = storage.Client(project=project_id)"
   ]
  },
  {
   "cell_type": "code",
   "execution_count": null,
   "id": "00bf1a8b",
   "metadata": {},
   "outputs": [],
   "source": [
    "#storing data into a bucket\n",
    "\n",
    "# Get a specific bucket\n",
    "bucket_name = 'cis-4400-hw1'\n",
    "# Check if the bucket exists\n",
    "bucket = client.bucket(bucket_name)\n",
    "\n",
    "if not bucket.exists():\n",
    "    # Create the bucket\n",
    "    bucket = client.create_bucket(bucket_name)\n",
    "    print(f'Bucket {bucket.name} created.')\n",
    "else:\n",
    "    print(f'Bucket {bucket_name} already exists.')"
   ]
  },
  {
   "cell_type": "code",
   "execution_count": null,
   "id": "856756e0",
   "metadata": {},
   "outputs": [],
   "source": [
    "# Convert DataFrame to CSV in memory\n",
    "csv_data = consolidated_df.to_csv(index=False).encode('utf-8')\n",
    "\n",
    "# Specify the destination blob name in the bucket\n",
    "destination_blob_name = 'consolidated_df.csv'\n",
    "\n",
    "# Get a reference to the bucket\n",
    "bucket = client.bucket(bucket_name)\n",
    "\n",
    "# Create a blob object\n",
    "blob = bucket.blob(destination_blob_name)\n",
    "\n",
    "# Upload the CSV data to the bucket\n",
    "blob.upload_from_string(csv_data)\n",
    "\n",
    "print(f\"DataFrame uploaded to '{destination_blob_name}' in bucket '{bucket_name}'.\")\n"
   ]
  },
  {
   "cell_type": "code",
   "execution_count": null,
   "id": "35e2f85a",
   "metadata": {},
   "outputs": [],
   "source": [
    "# Upload local drive file blob to the bucket\n",
    "\n",
    "\n",
    "#source_file_name = 'local-file.txt'  # Path to the local file you want to upload\n",
    "#destination_blob_name = 'uploaded-file.txt'  # Name you want to give to the blob in the bucket\n",
    "#blob = bucket.blob(destination_blob_name)\n",
    "#blob.upload_from_filename(source_file_name)\n",
    "#print(\"File {} uploaded to {}\".format(source_file_name, destination_blob_name))"
   ]
  },
  {
   "cell_type": "code",
   "execution_count": null,
   "id": "a966c9d9",
   "metadata": {},
   "outputs": [],
   "source": [
    "# List blobs in the bucket\n",
    "print(\"Blobs in bucket '{}':\".format(bucket_name))\n",
    "for blob in bucket.list_blobs():\n",
    "    print(blob.name)"
   ]
  },
  {
   "cell_type": "code",
   "execution_count": null,
   "id": "16114af3",
   "metadata": {},
   "outputs": [],
   "source": [
    "# Download a blob from the bucket\n",
    "#blob_to_download = 'your-blob-to-download.txt'  # Name of the blob you want to download\n",
    "#destination_file_name = 'downloaded-file.txt'  # Path where you want to save the downloaded file locally\n",
    "#blob = bucket.blob(blob_to_download)\n",
    "#blob.download_to_filename(destination_file_name)\n",
    "#print(\"Blob {} downloaded to {}\".format(blob_to_download, destination_file_name))"
   ]
  },
  {
   "cell_type": "markdown",
   "id": "6f1fcef8",
   "metadata": {},
   "source": [
    "### Access Blob Here"
   ]
  },
  {
   "cell_type": "code",
   "execution_count": null,
   "id": "9e69c6c3",
   "metadata": {},
   "outputs": [],
   "source": [
    "#import \n",
    "from google.cloud import storage\n",
    "from google.cloud import bigquery\n",
    "from google.api_core import exceptions\n",
    "import os\n",
    "from io import BytesIO"
   ]
  },
  {
   "cell_type": "code",
   "execution_count": null,
   "id": "67ab748e",
   "metadata": {},
   "outputs": [],
   "source": [
    "client = storage.Client()\n",
    "\n",
    "# Specify bucket name and blob name\n",
    "bucket_name = 'cis-4400-hw1'\n",
    "blob_name = 'consolidated_df.csv'\n",
    "blob = bucket.blob(blob_name)"
   ]
  },
  {
   "cell_type": "code",
   "execution_count": null,
   "id": "db92288e",
   "metadata": {},
   "outputs": [],
   "source": [
    "# List blobs in the bucket\n",
    "print(\"Blobs in bucket '{}':\".format(bucket_name))\n",
    "for blob in bucket.list_blobs():\n",
    "    print(blob.name)"
   ]
  },
  {
   "cell_type": "code",
   "execution_count": null,
   "id": "4f86cd61",
   "metadata": {},
   "outputs": [],
   "source": [
    "## Data Warehouse Process "
   ]
  }
 ],
 "metadata": {
  "kernelspec": {
   "display_name": "Python 3 (ipykernel)",
   "language": "python",
   "name": "python3"
  },
  "language_info": {
   "name": "python",
   "version": "3.11.1"
  }
 },
 "nbformat": 4,
 "nbformat_minor": 5
}
